{
 "cells": [
  {
   "cell_type": "code",
   "execution_count": 1,
   "metadata": {
    "collapsed": false
   },
   "outputs": [
    {
     "name": "stdout",
     "output_type": "stream",
     "text": [
      "1-Get_oauth_token.ipynb  4-Baseline.ipynb   contest_yandex.pyc\r\n",
      "2-Get_data.ipynb\t README.md\r\n",
      "3-Visualize_data.ipynb\t contest_yandex.py\r\n"
     ]
    }
   ],
   "source": [
    "!ls"
   ]
  },
  {
   "cell_type": "code",
   "execution_count": 2,
   "metadata": {
    "collapsed": false
   },
   "outputs": [
    {
     "name": "stdout",
     "output_type": "stream",
     "text": [
      "--2015-09-11 09:46:20--  https://downloader.disk.yandex.ru/disk/0d51fb5c231f77deb569d97498cf41800a6cc0a173b4ff6a69c521c3a9dbbbbd/55f2b4fa/HEj83CpHcnbY4EHlraYVjLfAYUkE2eHMAY628yeZsFSvIMSr52fI5ITg51hAfXASvntAMP1hiqWiKmaxfjhxDw%3D%3D?uid=0&filename=data.tsv&disposition=attachment&hash=p8N2/HSTtyhpPE5CdtNQgITNmZX54cj%2BdHgZW0EeReE%3D%3A/data.tsv&limit=0&content_type=application%2Foctet-stream&fsize=56668417&hid=476f7c6e23a7bbf060bdd25c82ad7b7e&media_type=data&tknv=v2\n",
      "Resolving downloader.disk.yandex.ru (downloader.disk.yandex.ru)... 77.88.21.127, 2a02:6b8::2:127\n",
      "Connecting to downloader.disk.yandex.ru (downloader.disk.yandex.ru)|77.88.21.127|:443... connected.\n",
      "HTTP request sent, awaiting response... 302 Moved Temporarily\n",
      "Location: https://leto22f.storage.yandex.net/rdisk/0d51fb5c231f77deb569d97498cf41800a6cc0a173b4ff6a69c521c3a9dbbbbd/55f2b4fa/HEj83CpHcnbY4EHlraYVjLfAYUkE2eHMAY628yeZsFSvIMSr52fI5ITg51hAfXASvntAMP1hiqWiKmaxfjhxDw==?uid=0&filename=data.tsv&disposition=attachment&hash=p8N2/HSTtyhpPE5CdtNQgITNmZX54cj%2BdHgZW0EeReE%3D%3A/data.tsv&limit=0&content_type=application%2Foctet-stream&fsize=56668417&hid=476f7c6e23a7bbf060bdd25c82ad7b7e&media_type=data&tknv=v2&rtoken=876553fcd08c3e4d9acc94b407c85688&force_default=no&ycrid=na-aea7424f171b0ec11c2f72635d5ddc23-downloader9g [following]\n",
      "--2015-09-11 09:46:20--  https://leto22f.storage.yandex.net/rdisk/0d51fb5c231f77deb569d97498cf41800a6cc0a173b4ff6a69c521c3a9dbbbbd/55f2b4fa/HEj83CpHcnbY4EHlraYVjLfAYUkE2eHMAY628yeZsFSvIMSr52fI5ITg51hAfXASvntAMP1hiqWiKmaxfjhxDw==?uid=0&filename=data.tsv&disposition=attachment&hash=p8N2/HSTtyhpPE5CdtNQgITNmZX54cj%2BdHgZW0EeReE%3D%3A/data.tsv&limit=0&content_type=application%2Foctet-stream&fsize=56668417&hid=476f7c6e23a7bbf060bdd25c82ad7b7e&media_type=data&tknv=v2&rtoken=876553fcd08c3e4d9acc94b407c85688&force_default=no&ycrid=na-aea7424f171b0ec11c2f72635d5ddc23-downloader9g\n",
      "Resolving leto22f.storage.yandex.net (leto22f.storage.yandex.net)... 77.88.29.122, 2a02:6b8:0:1472:6:7ed0:22:fff\n",
      "Connecting to leto22f.storage.yandex.net (leto22f.storage.yandex.net)|77.88.29.122|:443... connected.\n",
      "HTTP request sent, awaiting response... 200 OK\n",
      "Length: 56668417 (54M) [application/octet-stream]\n",
      "Saving to: 'data.tsv'\n",
      "\n",
      "100%[======================================>] 56,668,417  10.6MB/s   in 4.4s   \n",
      "\n",
      "2015-09-11 09:46:24 (12.2 MB/s) - 'data.tsv' saved [56668417/56668417]\n",
      "\n"
     ]
    }
   ],
   "source": [
    "!wget -O data.tsv \"https://downloader.disk.yandex.ru/disk/0d51fb5c231f77deb569d97498cf41800a6cc0a173b4ff6a69c521c3a9dbbbbd/55f2b4fa/HEj83CpHcnbY4EHlraYVjLfAYUkE2eHMAY628yeZsFSvIMSr52fI5ITg51hAfXASvntAMP1hiqWiKmaxfjhxDw%3D%3D?uid=0&filename=data.tsv&disposition=attachment&hash=p8N2/HSTtyhpPE5CdtNQgITNmZX54cj%2BdHgZW0EeReE%3D%3A/data.tsv&limit=0&content_type=application%2Foctet-stream&fsize=56668417&hid=476f7c6e23a7bbf060bdd25c82ad7b7e&media_type=data&tknv=v2\""
   ]
  },
  {
   "cell_type": "code",
   "execution_count": 3,
   "metadata": {
    "collapsed": false
   },
   "outputs": [
    {
     "name": "stdout",
     "output_type": "stream",
     "text": [
      "--2015-09-11 09:46:25--  https://downloader.disk.yandex.ru/disk/a68ca8ec0cd6fb2b0be74292333793501c51c8f7e6f17e43ec74640244adfe49/55f2b78b/CcSKzxj0WaNlsUek0x7JW5jxJX3TMvBQwZ2C2pUkBt3DFahwK-qY_qaMeHto3FFmnjP-NbYxLPZ1_FF6LvHo0w%3D%3D?uid=0&filename=route_to_stops_count1.tsv&disposition=attachment&hash=p8N2/HSTtyhpPE5CdtNQgITNmZX54cj%2BdHgZW0EeReE%3D%3A/route_to_stops_count1.tsv&limit=0&content_type=text%2Ftab-separated-values&fsize=3385&hid=034ee0642ef6e86d835d05afccf21d7d&media_type=data&tknv=v2\r\n",
      "Resolving downloader.disk.yandex.ru (downloader.disk.yandex.ru)... 77.88.21.127, 2a02:6b8::2:127\r\n",
      "Connecting to downloader.disk.yandex.ru (downloader.disk.yandex.ru)|77.88.21.127|:443... connected.\r\n",
      "HTTP request sent, awaiting response... 200 OK\r\n",
      "Length: 3385 (3.3K) [text/tab-separated-values]\r\n",
      "Saving to: 'route_to_stops_count.tsv'\r\n",
      "\r\n",
      "\r",
      " 0% [                                       ] 0           --.-K/s              \r",
      "100%[======================================>] 3,385       --.-K/s   in 0s      \r\n",
      "\r\n",
      "2015-09-11 09:46:25 (719 MB/s) - 'route_to_stops_count.tsv' saved [3385/3385]\r\n",
      "\r\n"
     ]
    }
   ],
   "source": [
    "!wget -O route_to_stops_count.tsv \"https://downloader.disk.yandex.ru/disk/a68ca8ec0cd6fb2b0be74292333793501c51c8f7e6f17e43ec74640244adfe49/55f2b78b/CcSKzxj0WaNlsUek0x7JW5jxJX3TMvBQwZ2C2pUkBt3DFahwK-qY_qaMeHto3FFmnjP-NbYxLPZ1_FF6LvHo0w%3D%3D?uid=0&filename=route_to_stops_count1.tsv&disposition=attachment&hash=p8N2/HSTtyhpPE5CdtNQgITNmZX54cj%2BdHgZW0EeReE%3D%3A/route_to_stops_count1.tsv&limit=0&content_type=text%2Ftab-separated-values&fsize=3385&hid=034ee0642ef6e86d835d05afccf21d7d&media_type=data&tknv=v2\""
   ]
  },
  {
   "cell_type": "code",
   "execution_count": 4,
   "metadata": {
    "collapsed": false
   },
   "outputs": [
    {
     "name": "stdout",
     "output_type": "stream",
     "text": [
      "--2015-09-11 09:46:27--  https://downloader.disk.yandex.ru/disk/311435ecd3c6e1fe3039016e54bac3c442a9000118dc11265d2410fe11ddb69d/55f2b78d/KVsMs_AmN1ljTmXH1HebATMHLsVKBXdWBDSp5hkv73v5Wax-lbh94sdgwlnJB3jAyoJIz6pyyyUwgr6SuuaA8w%3D%3D?uid=0&filename=debug.tsv&disposition=attachment&hash=p8N2/HSTtyhpPE5CdtNQgITNmZX54cj%2BdHgZW0EeReE%3D%3A/debug.tsv&limit=0&content_type=text%2Ftab-separated-values&fsize=4255&hid=3d259652e34b69c7d7bbee737486144d&media_type=data&tknv=v2\r\n",
      "Resolving downloader.disk.yandex.ru (downloader.disk.yandex.ru)... 77.88.21.127, 2a02:6b8::2:127\r\n",
      "Connecting to downloader.disk.yandex.ru (downloader.disk.yandex.ru)|77.88.21.127|:443... connected.\r\n",
      "HTTP request sent, awaiting response... 200 OK\r\n",
      "Length: 4255 (4.2K) [text/tab-separated-values]\r\n",
      "Saving to: 'debug.tsv'\r\n",
      "\r\n",
      "\r",
      " 0% [                                       ] 0           --.-K/s              \r",
      "100%[======================================>] 4,255       --.-K/s   in 0s      \r\n",
      "\r\n",
      "2015-09-11 09:46:27 (878 MB/s) - 'debug.tsv' saved [4255/4255]\r\n",
      "\r\n"
     ]
    }
   ],
   "source": [
    "!wget -O debug.tsv \"https://downloader.disk.yandex.ru/disk/311435ecd3c6e1fe3039016e54bac3c442a9000118dc11265d2410fe11ddb69d/55f2b78d/KVsMs_AmN1ljTmXH1HebATMHLsVKBXdWBDSp5hkv73v5Wax-lbh94sdgwlnJB3jAyoJIz6pyyyUwgr6SuuaA8w%3D%3D?uid=0&filename=debug.tsv&disposition=attachment&hash=p8N2/HSTtyhpPE5CdtNQgITNmZX54cj%2BdHgZW0EeReE%3D%3A/debug.tsv&limit=0&content_type=text%2Ftab-separated-values&fsize=4255&hid=3d259652e34b69c7d7bbee737486144d&media_type=data&tknv=v2\""
   ]
  },
  {
   "cell_type": "code",
   "execution_count": 5,
   "metadata": {
    "collapsed": false
   },
   "outputs": [
    {
     "name": "stdout",
     "output_type": "stream",
     "text": [
      "data.tsv  debug.tsv  route_to_stops_count.tsv\r\n"
     ]
    }
   ],
   "source": [
    "!ls *.tsv"
   ]
  },
  {
   "cell_type": "code",
   "execution_count": null,
   "metadata": {
    "collapsed": true
   },
   "outputs": [],
   "source": []
  }
 ],
 "metadata": {
  "kernelspec": {
   "display_name": "Python 2",
   "language": "python",
   "name": "python2"
  },
  "language_info": {
   "codemirror_mode": {
    "name": "ipython",
    "version": 2
   },
   "file_extension": ".py",
   "mimetype": "text/x-python",
   "name": "python",
   "nbconvert_exporter": "python",
   "pygments_lexer": "ipython2",
   "version": "2.7.6"
  }
 },
 "nbformat": 4,
 "nbformat_minor": 0
}
