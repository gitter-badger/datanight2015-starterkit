{
 "cells": [
  {
   "cell_type": "code",
   "execution_count": 1,
   "metadata": {
    "collapsed": false
   },
   "outputs": [
    {
     "name": "stdout",
     "output_type": "stream",
     "text": [
      "1-Get_oauth_token.ipynb  Dockerfile\t\t   README.md\r\n",
      "2-Get_data.ipynb\t LICENSE\t\t   contest_yandex.py\r\n",
      "4-Baseline.ipynb\t ManchesterTutorial.ipynb  contest_yandex.pyc\r\n"
     ]
    }
   ],
   "source": [
    "!ls"
   ]
  },
  {
   "cell_type": "code",
   "execution_count": 2,
   "metadata": {
    "collapsed": false
   },
   "outputs": [
    {
     "name": "stdout",
     "output_type": "stream",
     "text": [
      "--2015-09-11 09:27:15--  https://downloader.disk.yandex.ru/disk/0d51fb5c231f77deb569d97498cf41800a6cc0a173b4ff6a69c521c3a9dbbbbd/55f2b4fa/HEj83CpHcnbY4EHlraYVjLfAYUkE2eHMAY628yeZsFSvIMSr52fI5ITg51hAfXASvntAMP1hiqWiKmaxfjhxDw%3D%3D?uid=0&filename=data.tsv&disposition=attachment&hash=p8N2/HSTtyhpPE5CdtNQgITNmZX54cj%2BdHgZW0EeReE%3D%3A/data.tsv&limit=0&content_type=application%2Foctet-stream&fsize=56668417&hid=476f7c6e23a7bbf060bdd25c82ad7b7e&media_type=data&tknv=v2\n",
      "Resolving downloader.disk.yandex.ru (downloader.disk.yandex.ru)... 77.88.21.127, 2a02:6b8::2:127\n",
      "Connecting to downloader.disk.yandex.ru (downloader.disk.yandex.ru)|77.88.21.127|:443... connected.\n",
      "HTTP request sent, awaiting response... 302 Moved Temporarily\n",
      "Location: https://leto22f.storage.yandex.net/rdisk/0d51fb5c231f77deb569d97498cf41800a6cc0a173b4ff6a69c521c3a9dbbbbd/55f2b4fa/HEj83CpHcnbY4EHlraYVjLfAYUkE2eHMAY628yeZsFSvIMSr52fI5ITg51hAfXASvntAMP1hiqWiKmaxfjhxDw==?uid=0&filename=data.tsv&disposition=attachment&hash=p8N2/HSTtyhpPE5CdtNQgITNmZX54cj%2BdHgZW0EeReE%3D%3A/data.tsv&limit=0&content_type=application%2Foctet-stream&fsize=56668417&hid=476f7c6e23a7bbf060bdd25c82ad7b7e&media_type=data&tknv=v2&rtoken=876553fcd08c3e4d9acc94b407c85688&force_default=no&ycrid=na-b22a81aa359d2c99c41aa966e10c9cfd-downloader4g [following]\n",
      "--2015-09-11 09:27:15--  https://leto22f.storage.yandex.net/rdisk/0d51fb5c231f77deb569d97498cf41800a6cc0a173b4ff6a69c521c3a9dbbbbd/55f2b4fa/HEj83CpHcnbY4EHlraYVjLfAYUkE2eHMAY628yeZsFSvIMSr52fI5ITg51hAfXASvntAMP1hiqWiKmaxfjhxDw==?uid=0&filename=data.tsv&disposition=attachment&hash=p8N2/HSTtyhpPE5CdtNQgITNmZX54cj%2BdHgZW0EeReE%3D%3A/data.tsv&limit=0&content_type=application%2Foctet-stream&fsize=56668417&hid=476f7c6e23a7bbf060bdd25c82ad7b7e&media_type=data&tknv=v2&rtoken=876553fcd08c3e4d9acc94b407c85688&force_default=no&ycrid=na-b22a81aa359d2c99c41aa966e10c9cfd-downloader4g\n",
      "Resolving leto22f.storage.yandex.net (leto22f.storage.yandex.net)... 77.88.29.122, 2a02:6b8:0:1472:6:7ed0:22:fff\n",
      "Connecting to leto22f.storage.yandex.net (leto22f.storage.yandex.net)|77.88.29.122|:443... connected.\n",
      "HTTP request sent, awaiting response... 200 OK\n",
      "Length: 56668417 (54M) [application/octet-stream]\n",
      "Saving to: 'data.tsv'\n",
      "\n",
      "100%[======================================>] 56,668,417  10.3MB/s   in 5.1s   \n",
      "\n",
      "2015-09-11 09:27:20 (10.5 MB/s) - 'data.tsv' saved [56668417/56668417]\n",
      "\n"
     ]
    }
   ],
   "source": [
    "!wget -O data.tsv \"https://downloader.disk.yandex.ru/disk/0d51fb5c231f77deb569d97498cf41800a6cc0a173b4ff6a69c521c3a9dbbbbd/55f2b4fa/HEj83CpHcnbY4EHlraYVjLfAYUkE2eHMAY628yeZsFSvIMSr52fI5ITg51hAfXASvntAMP1hiqWiKmaxfjhxDw%3D%3D?uid=0&filename=data.tsv&disposition=attachment&hash=p8N2/HSTtyhpPE5CdtNQgITNmZX54cj%2BdHgZW0EeReE%3D%3A/data.tsv&limit=0&content_type=application%2Foctet-stream&fsize=56668417&hid=476f7c6e23a7bbf060bdd25c82ad7b7e&media_type=data&tknv=v2\""
   ]
  },
  {
   "cell_type": "code",
   "execution_count": 3,
   "metadata": {
    "collapsed": false
   },
   "outputs": [
    {
     "name": "stdout",
     "output_type": "stream",
     "text": [
      "--2015-09-11 09:30:11--  https://downloader.disk.yandex.ru/disk/a68ca8ec0cd6fb2b0be74292333793501c51c8f7e6f17e43ec74640244adfe49/55f2b78b/CcSKzxj0WaNlsUek0x7JW5jxJX3TMvBQwZ2C2pUkBt3DFahwK-qY_qaMeHto3FFmnjP-NbYxLPZ1_FF6LvHo0w%3D%3D?uid=0&filename=route_to_stops_count1.tsv&disposition=attachment&hash=p8N2/HSTtyhpPE5CdtNQgITNmZX54cj%2BdHgZW0EeReE%3D%3A/route_to_stops_count1.tsv&limit=0&content_type=text%2Ftab-separated-values&fsize=3385&hid=034ee0642ef6e86d835d05afccf21d7d&media_type=data&tknv=v2\n",
      "Resolving downloader.disk.yandex.ru (downloader.disk.yandex.ru)... 77.88.21.127, 2a02:6b8::2:127\n",
      "Connecting to downloader.disk.yandex.ru (downloader.disk.yandex.ru)|77.88.21.127|:443... connected.\n",
      "HTTP request sent, awaiting response... 200 OK\n",
      "Length: 3385 (3.3K) [text/tab-separated-values]\n",
      "Saving to: 'route_to_stops_count.tsv'\n",
      "\n",
      "100%[======================================>] 3,385       --.-K/s   in 0s      \n",
      "\n",
      "2015-09-11 09:30:12 (250 MB/s) - 'route_to_stops_count.tsv' saved [3385/3385]\n",
      "\n"
     ]
    }
   ],
   "source": [
    "!wget -O route_to_stops_count.tsv \"https://downloader.disk.yandex.ru/disk/a68ca8ec0cd6fb2b0be74292333793501c51c8f7e6f17e43ec74640244adfe49/55f2b78b/CcSKzxj0WaNlsUek0x7JW5jxJX3TMvBQwZ2C2pUkBt3DFahwK-qY_qaMeHto3FFmnjP-NbYxLPZ1_FF6LvHo0w%3D%3D?uid=0&filename=route_to_stops_count1.tsv&disposition=attachment&hash=p8N2/HSTtyhpPE5CdtNQgITNmZX54cj%2BdHgZW0EeReE%3D%3A/route_to_stops_count1.tsv&limit=0&content_type=text%2Ftab-separated-values&fsize=3385&hid=034ee0642ef6e86d835d05afccf21d7d&media_type=data&tknv=v2\""
   ]
  },
  {
   "cell_type": "code",
   "execution_count": 4,
   "metadata": {
    "collapsed": false
   },
   "outputs": [
    {
     "name": "stdout",
     "output_type": "stream",
     "text": [
      "--2015-09-11 09:30:51--  https://downloader.disk.yandex.ru/disk/311435ecd3c6e1fe3039016e54bac3c442a9000118dc11265d2410fe11ddb69d/55f2b78d/KVsMs_AmN1ljTmXH1HebATMHLsVKBXdWBDSp5hkv73v5Wax-lbh94sdgwlnJB3jAyoJIz6pyyyUwgr6SuuaA8w%3D%3D?uid=0&filename=debug.tsv&disposition=attachment&hash=p8N2/HSTtyhpPE5CdtNQgITNmZX54cj%2BdHgZW0EeReE%3D%3A/debug.tsv&limit=0&content_type=text%2Ftab-separated-values&fsize=4255&hid=3d259652e34b69c7d7bbee737486144d&media_type=data&tknv=v2\n",
      "Resolving downloader.disk.yandex.ru (downloader.disk.yandex.ru)... 77.88.21.127, 2a02:6b8::2:127\n",
      "Connecting to downloader.disk.yandex.ru (downloader.disk.yandex.ru)|77.88.21.127|:443... connected.\n",
      "HTTP request sent, awaiting response... 200 OK\n",
      "Length: 4255 (4.2K) [text/tab-separated-values]\n",
      "Saving to: 'debug.tsv'\n",
      "\n",
      "100%[======================================>] 4,255       --.-K/s   in 0s      \n",
      "\n",
      "2015-09-11 09:30:51 (344 MB/s) - 'debug.tsv' saved [4255/4255]\n",
      "\n"
     ]
    }
   ],
   "source": [
    "!wget -O debug.tsv \"https://downloader.disk.yandex.ru/disk/311435ecd3c6e1fe3039016e54bac3c442a9000118dc11265d2410fe11ddb69d/55f2b78d/KVsMs_AmN1ljTmXH1HebATMHLsVKBXdWBDSp5hkv73v5Wax-lbh94sdgwlnJB3jAyoJIz6pyyyUwgr6SuuaA8w%3D%3D?uid=0&filename=debug.tsv&disposition=attachment&hash=p8N2/HSTtyhpPE5CdtNQgITNmZX54cj%2BdHgZW0EeReE%3D%3A/debug.tsv&limit=0&content_type=text%2Ftab-separated-values&fsize=4255&hid=3d259652e34b69c7d7bbee737486144d&media_type=data&tknv=v2\""
   ]
  },
  {
   "cell_type": "code",
   "execution_count": 5,
   "metadata": {
    "collapsed": false
   },
   "outputs": [
    {
     "name": "stdout",
     "output_type": "stream",
     "text": [
      "data.tsv  debug.tsv  route_to_stops_count.tsv\r\n"
     ]
    }
   ],
   "source": [
    "!ls *.tsv"
   ]
  },
  {
   "cell_type": "code",
   "execution_count": null,
   "metadata": {
    "collapsed": true
   },
   "outputs": [],
   "source": []
  }
 ],
 "metadata": {
  "kernelspec": {
   "display_name": "Python 2",
   "language": "python",
   "name": "python2"
  },
  "language_info": {
   "codemirror_mode": {
    "name": "ipython",
    "version": 2
   },
   "file_extension": ".py",
   "mimetype": "text/x-python",
   "name": "python",
   "nbconvert_exporter": "python",
   "pygments_lexer": "ipython2",
   "version": "2.7.6"
  }
 },
 "nbformat": 4,
 "nbformat_minor": 0
}
