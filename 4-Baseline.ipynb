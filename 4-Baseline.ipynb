{
 "cells": [
  {
   "cell_type": "markdown",
   "metadata": {},
   "source": [
    "#Бенчмарк. Определение остановок автобусов (учебный поток).\n",
    "\n",
    "Ночь Анализа Данных Яндекса, 2015"
   ]
  },
  {
   "cell_type": "markdown",
   "metadata": {},
   "source": [
    "Подключим необходимые библиотеки:"
   ]
  },
  {
   "cell_type": "code",
   "execution_count": 15,
   "metadata": {
    "collapsed": false
   },
   "outputs": [],
   "source": [
    "import numpy as np\n",
    "import pandas as pd\n",
    "\n",
    "from sklearn.cluster import KMeans"
   ]
  },
  {
   "cell_type": "markdown",
   "metadata": {},
   "source": [
    "Считаем файл с данными, а также файл с числом остановок."
   ]
  },
  {
   "cell_type": "code",
   "execution_count": 16,
   "metadata": {
    "collapsed": false
   },
   "outputs": [],
   "source": [
    "dtrain = pd.read_csv('data.tsv', sep = '\\t', names = ['datetime', 'id', 'type', 'hash', 'latitude', 'longitude'])"
   ]
  },
  {
   "cell_type": "code",
   "execution_count": 17,
   "metadata": {
    "collapsed": false
   },
   "outputs": [],
   "source": [
    "dcounts = pd.read_csv('route_to_stops_count.tsv', sep = '\\t', names = ['type', 'hash', 'value'])"
   ]
  },
  {
   "cell_type": "markdown",
   "metadata": {},
   "source": [
    "Пробежимся по всем маршрутам.\n",
    "Для каждого применим алгоритм кластеризации KMeans с заданным числом кластеров.\n",
    "В качестве результата будем накапливать центры получившихся кластеров."
   ]
  },
  {
   "cell_type": "code",
   "execution_count": 18,
   "metadata": {
    "collapsed": false
   },
   "outputs": [],
   "source": [
    "result = []\n",
    "\n",
    "for i, row in dcounts.iterrows():\n",
    "    coords = dtrain.loc[(dtrain['hash'] == dcounts.at[i, 'hash']), ['latitude', 'longitude']]\n",
    "\n",
    "    kmeans = KMeans(n_clusters = dcounts['value'][i], n_init = 1).fit(coord)\n",
    "    result.extend(kmeans.cluster_centers_)"
   ]
  },
  {
   "cell_type": "markdown",
   "metadata": {},
   "source": [
    "Выведем результат в файл."
   ]
  },
  {
   "cell_type": "code",
   "execution_count": 19,
   "metadata": {
    "collapsed": false
   },
   "outputs": [],
   "source": [
    "np.savetxt('output1.txt', result, header = str(len(result)), comments = '')"
   ]
  },
  {
   "cell_type": "code",
   "execution_count": 20,
   "metadata": {
    "collapsed": false
   },
   "outputs": [
    {
     "name": "stdout",
     "output_type": "stream",
     "text": [
      "12021\r\n",
      "5.052691670400000135e+01 5.095541084399999932e+01\r\n",
      "5.053191842537313505e+01 5.102147068656716300e+01\r\n",
      "5.050431538805970177e+01 5.095017044776119519e+01\r\n",
      "5.052675343859649360e+01 5.099300412280701522e+01\r\n",
      "5.053220035087718998e+01 5.104795245029239936e+01\r\n",
      "5.050515431016042811e+01 5.093631994117647110e+01\r\n",
      "5.050587303888888613e+01 5.096952555277777464e+01\r\n",
      "5.053005245856353866e+01 5.097366991712706863e+01\r\n",
      "5.052089320645161052e+01 5.093786673548387256e+01\r\n"
     ]
    }
   ],
   "source": [
    "!head output.txt\n",
    "\n"
   ]
  },
  {
   "cell_type": "code",
   "execution_count": 21,
   "metadata": {
    "collapsed": false
   },
   "outputs": [
    {
     "name": "stdout",
     "output_type": "stream",
     "text": [
      "total 56749\r\n",
      "-rw-r--r-- 1 root root     2384 Sep 11 10:21 1-Get_oauth_token.ipynb\r\n",
      "-rw-r--r-- 1 root root     8414 Sep 11 09:46 2-Get_data.ipynb\r\n",
      "-rw-r--r-- 1 root root   201179 Sep 11 14:14 3-Visualize_data.ipynb\r\n",
      "-rw-r--r-- 1 root root     4748 Sep 11 14:48 4-Baseline.ipynb\r\n",
      "-rw-r--r-- 1 root root      115 Sep 11 09:42 README.md\r\n",
      "-rwxr-xr-x 1 root root     6504 Sep 11 11:52 contest_yandex.py\r\n",
      "-rw-r--r-- 1 root root     6892 Sep 11 14:27 contest_yandex.pyc\r\n",
      "-rw-r--r-- 1 root root 56668417 Sep 11 09:46 data.tsv\r\n",
      "-rw-r--r-- 1 root root     4255 Sep 11 09:46 debug.tsv\r\n",
      "-rw-r--r-- 1 root root   601056 Sep 11 09:48 output.txt\r\n",
      "-rw-r--r-- 1 root root   601056 Sep 11 14:49 output1.txt\r\n",
      "-rw-r--r-- 1 root root     3385 Sep 11 09:46 route_to_stops_count.tsv\r\n"
     ]
    }
   ],
   "source": [
    "!ls -l"
   ]
  },
  {
   "cell_type": "markdown",
   "metadata": {
    "collapsed": true
   },
   "source": [
    "Подставьте свой oauth_token в следующю строку, например:\n",
    "\n",
    "```\n",
    "   oauth = '21a1929c450641769be5c5bc49a55555'\n",
    "```"
   ]
  },
  {
   "cell_type": "code",
   "execution_count": 2,
   "metadata": {
    "collapsed": true
   },
   "outputs": [],
   "source": [
    "oauth = '21a1929c450641769be5c5bc49a55d54'"
   ]
  },
  {
   "cell_type": "code",
   "execution_count": 3,
   "metadata": {
    "collapsed": false
   },
   "outputs": [],
   "source": [
    "from contest_yandex import YaContestSubmitter\n",
    "contest = YaContestSubmitter(oauth_token=oauth, contest_id=1303)"
   ]
  },
  {
   "cell_type": "code",
   "execution_count": 4,
   "metadata": {
    "collapsed": false
   },
   "outputs": [
    {
     "name": "stdout",
     "output_type": "stream",
     "text": [
      "769745\n"
     ]
    }
   ],
   "source": [
    "r = contest.submit('output1.txt')\n",
    "print r"
   ]
  },
  {
   "cell_type": "code",
   "execution_count": 5,
   "metadata": {
    "collapsed": false
   },
   "outputs": [
    {
     "name": "stdout",
     "output_type": "stream",
     "text": [
      "Score: None, message: None\n"
     ]
    }
   ],
   "source": [
    "score, message = contest.get_result()\n",
    "print \"Score: {}, message: {}\".format(score, message)"
   ]
  },
  {
   "cell_type": "code",
   "execution_count": null,
   "metadata": {
    "collapsed": true
   },
   "outputs": [],
   "source": []
  }
 ],
 "metadata": {
  "kernelspec": {
   "display_name": "Python 2",
   "language": "python",
   "name": "python2"
  },
  "language_info": {
   "codemirror_mode": {
    "name": "ipython",
    "version": 2
   },
   "file_extension": ".py",
   "mimetype": "text/x-python",
   "name": "python",
   "nbconvert_exporter": "python",
   "pygments_lexer": "ipython2",
   "version": "2.7.6"
  }
 },
 "nbformat": 4,
 "nbformat_minor": 0
}
