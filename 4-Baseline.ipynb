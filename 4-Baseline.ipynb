{
 "cells": [
  {
   "cell_type": "markdown",
   "metadata": {},
   "source": [
    "#Бенчмарк. Определение остановок автобусов (учебный поток).\n",
    "\n",
    "Ночь Анализа Данных Яндекса, 2015"
   ]
  },
  {
   "cell_type": "markdown",
   "metadata": {},
   "source": [
    "Подключим необходимые библиотеки:"
   ]
  },
  {
   "cell_type": "code",
   "execution_count": 3,
   "metadata": {
    "collapsed": false
   },
   "outputs": [
    {
     "name": "stdout",
     "output_type": "stream",
     "text": [
      "Populating the interactive namespace from numpy and matplotlib\n"
     ]
    }
   ],
   "source": [
    "%pylab inline\n",
    "\n",
    "import numpy as np\n",
    "import pandas as pd\n",
    "\n",
    "from sklearn.cluster import KMeans"
   ]
  },
  {
   "cell_type": "markdown",
   "metadata": {},
   "source": [
    "Считаем файл с данными, а также файл с числом остановок."
   ]
  },
  {
   "cell_type": "code",
   "execution_count": 6,
   "metadata": {
    "collapsed": false
   },
   "outputs": [
    {
     "name": "stdout",
     "output_type": "stream",
     "text": [
      "1\t   Untitled.ipynb  debug.tsv\troute_to_stops_count.tsv\r\n",
      "REP_howto  data.csv\t   jupyter.log\tyandexstasbench1.ipynb\r\n"
     ]
    }
   ],
   "source": [
    "!ls"
   ]
  },
  {
   "cell_type": "code",
   "execution_count": null,
   "metadata": {
    "collapsed": true
   },
   "outputs": [],
   "source": [
    "dtrain = pd.read_csv('data.csv', sep = '\\t', names = ['datetime', 'id', 'type', 'hash', 'latitude', 'longitude'])"
   ]
  },
  {
   "cell_type": "code",
   "execution_count": 8,
   "metadata": {
    "collapsed": false
   },
   "outputs": [],
   "source": [
    "dcounts = pd.read_csv('route_to_stops_count.tsv', sep = '\\t', names = ['type', 'hash', 'value'])"
   ]
  },
  {
   "cell_type": "markdown",
   "metadata": {},
   "source": [
    "Пробежимся по всем маршрутам.\n",
    "Для каждого применим алгоритм кластеризации KMeans с заданным числом кластеров.\n",
    "В качестве результата будем накапливать центры получившихся кластеров."
   ]
  },
  {
   "cell_type": "code",
   "execution_count": 9,
   "metadata": {
    "collapsed": false,
    "scrolled": true
   },
   "outputs": [],
   "source": [
    "result = []\n",
    "\n",
    "for i in range(len(dcounts)):\n",
    "    coord = dtrain.ix[np.array(dtrain['hash'] == dcounts['hash'][i]), 4:]\n",
    "    \n",
    "    kmeans = KMeans(n_clusters = dcounts['value'][i], n_init = 1).fit(coord)\n",
    "    result.extend(kmeans.cluster_centers_)"
   ]
  },
  {
   "cell_type": "markdown",
   "metadata": {},
   "source": [
    "Выведем результат в файл."
   ]
  },
  {
   "cell_type": "code",
   "execution_count": 10,
   "metadata": {
    "collapsed": false
   },
   "outputs": [],
   "source": [
    "np.savetxt('output.txt', result, header = str(len(result)), comments = '')"
   ]
  },
  {
   "cell_type": "code",
   "execution_count": 11,
   "metadata": {
    "collapsed": false
   },
   "outputs": [
    {
     "name": "stdout",
     "output_type": "stream",
     "text": [
      "12021\r\n",
      "5.052287900000000320e+01 5.095474586699507569e+01\r\n",
      "5.053185243386243286e+01 5.101369986772486698e+01\r\n",
      "5.053189594285714037e+01 5.104517042857143139e+01\r\n",
      "5.051450710989011128e+01 5.093645769597069517e+01\r\n",
      "5.053043936559139837e+01 5.098766125806451299e+01\r\n",
      "5.050418886294416154e+01 5.096714688832487639e+01\r\n",
      "5.053041703076922886e+01 5.097010456923077015e+01\r\n",
      "5.053156209729729653e+01 5.100106508648648429e+01\r\n",
      "5.050456305769230880e+01 5.094359115384615677e+01\r\n"
     ]
    }
   ],
   "source": [
    "!head output.txt\n",
    "\n"
   ]
  },
  {
   "cell_type": "code",
   "execution_count": 12,
   "metadata": {
    "collapsed": false
   },
   "outputs": [
    {
     "name": "stdout",
     "output_type": "stream",
     "text": [
      "total 55945\r\n",
      "drwxrwxrwx 2 root  root         0 Sep 11 07:18 1\r\n",
      "lrwxrwxrwx 1 root  root        10 Sep  9 20:04 REP_howto -> /REP_howto\r\n",
      "-rw-r--r-- 1 root  root       840 Sep 11 07:02 Untitled.ipynb\r\n",
      "-rw-r--r-- 1 23522 22528 56668417 Sep 11 07:13 data.csv\r\n",
      "-rw-r----- 1 23522 22528     4255 Sep 11 07:18 debug.tsv\r\n",
      "-rw-r--r-- 1 root  root      2299 Sep 11 07:41 jupyter.log\r\n",
      "-rw-r--r-- 1 root  root    601056 Sep 11 07:21 output.txt\r\n",
      "-rw-r----- 1 23522 22528     3385 Sep 11 07:17 route_to_stops_count.tsv\r\n",
      "-rw-r--r-- 1 root  root      4627 Sep 11 07:41 yandexstasbench1.ipynb\r\n"
     ]
    }
   ],
   "source": [
    "!ls -l"
   ]
  },
  {
   "cell_type": "code",
   "execution_count": 13,
   "metadata": {
    "collapsed": true
   },
   "outputs": [],
   "source": [
    "from contest_yandex import YaContestSubmitter"
   ]
  },
  {
   "cell_type": "code",
   "execution_count": 14,
   "metadata": {
    "collapsed": true
   },
   "outputs": [],
   "source": [
    "contest = YaContestSubmitter()"
   ]
  },
  {
   "cell_type": "code",
   "execution_count": null,
   "metadata": {
    "collapsed": true
   },
   "outputs": [],
   "source": [
    "contest.code2oauth_token()"
   ]
  }
 ],
 "metadata": {
  "kernelspec": {
   "display_name": "Python 2",
   "language": "python",
   "name": "python2"
  },
  "language_info": {
   "codemirror_mode": {
    "name": "ipython",
    "version": 2
   },
   "file_extension": ".py",
   "mimetype": "text/x-python",
   "name": "python",
   "nbconvert_exporter": "python",
   "pygments_lexer": "ipython2",
   "version": "2.7.6"
  }
 },
 "nbformat": 4,
 "nbformat_minor": 0
}
