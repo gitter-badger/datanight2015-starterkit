{
 "cells": [
  {
   "cell_type": "markdown",
   "metadata": {},
   "source": [
    "#Бенчмарк. Определение остановок автобусов (учебный поток).\n",
    "\n",
    "Ночь Анализа Данных Яндекса, 2015"
   ]
  },
  {
   "cell_type": "markdown",
   "metadata": {},
   "source": [
    "Подключим необходимые библиотеки:"
   ]
  },
  {
   "cell_type": "code",
   "execution_count": 1,
   "metadata": {
    "collapsed": false
   },
   "outputs": [
    {
     "name": "stdout",
     "output_type": "stream",
     "text": [
      "Populating the interactive namespace from numpy and matplotlib\n"
     ]
    }
   ],
   "source": [
    "%pylab inline\n",
    "\n",
    "import numpy as np\n",
    "import pandas as pd\n",
    "\n",
    "from sklearn.cluster import KMeans"
   ]
  },
  {
   "cell_type": "markdown",
   "metadata": {},
   "source": [
    "Считаем файл с данными, а также файл с числом остановок."
   ]
  },
  {
   "cell_type": "code",
   "execution_count": 4,
   "metadata": {
    "collapsed": false
   },
   "outputs": [],
   "source": [
    "dtrain = pd.read_csv('data.tsv', sep = '\\t', names = ['datetime', 'id', 'type', 'hash', 'latitude', 'longitude'])"
   ]
  },
  {
   "cell_type": "code",
   "execution_count": 5,
   "metadata": {
    "collapsed": false
   },
   "outputs": [],
   "source": [
    "dcounts = pd.read_csv('route_to_stops_count.tsv', sep = '\\t', names = ['type', 'hash', 'value'])"
   ]
  },
  {
   "cell_type": "markdown",
   "metadata": {},
   "source": [
    "Пробежимся по всем маршрутам.\n",
    "Для каждого применим алгоритм кластеризации KMeans с заданным числом кластеров.\n",
    "В качестве результата будем накапливать центры получившихся кластеров."
   ]
  },
  {
   "cell_type": "code",
   "execution_count": 6,
   "metadata": {
    "collapsed": false,
    "scrolled": true
   },
   "outputs": [],
   "source": [
    "result = []\n",
    "\n",
    "for i in range(len(dcounts)):\n",
    "    coord = dtrain.ix[np.array(dtrain['hash'] == dcounts['hash'][i]), 4:]\n",
    "    \n",
    "    kmeans = KMeans(n_clusters = dcounts['value'][i], n_init = 1).fit(coord)\n",
    "    result.extend(kmeans.cluster_centers_)"
   ]
  },
  {
   "cell_type": "markdown",
   "metadata": {},
   "source": [
    "Выведем результат в файл."
   ]
  },
  {
   "cell_type": "code",
   "execution_count": 7,
   "metadata": {
    "collapsed": false
   },
   "outputs": [],
   "source": [
    "np.savetxt('output.txt', result, header = str(len(result)), comments = '')"
   ]
  },
  {
   "cell_type": "code",
   "execution_count": 8,
   "metadata": {
    "collapsed": false
   },
   "outputs": [
    {
     "name": "stdout",
     "output_type": "stream",
     "text": [
      "12021\r\n",
      "5.052691670400000135e+01 5.095541084399999932e+01\r\n",
      "5.053191842537313505e+01 5.102147068656716300e+01\r\n",
      "5.050431538805970177e+01 5.095017044776119519e+01\r\n",
      "5.052675343859649360e+01 5.099300412280701522e+01\r\n",
      "5.053220035087718998e+01 5.104795245029239936e+01\r\n",
      "5.050515431016042811e+01 5.093631994117647110e+01\r\n",
      "5.050587303888888613e+01 5.096952555277777464e+01\r\n",
      "5.053005245856353866e+01 5.097366991712706863e+01\r\n",
      "5.052089320645161052e+01 5.093786673548387256e+01\r\n"
     ]
    }
   ],
   "source": [
    "!head output.txt\n",
    "\n"
   ]
  },
  {
   "cell_type": "code",
   "execution_count": 9,
   "metadata": {
    "collapsed": false
   },
   "outputs": [
    {
     "name": "stdout",
     "output_type": "stream",
     "text": [
      "total 56101\r\n",
      "-rw-r--r-- 1 root root     2382 Sep 11 09:46 1-Get_oauth_token.ipynb\r\n",
      "-rw-r--r-- 1 root root     8414 Sep 11 09:46 2-Get_data.ipynb\r\n",
      "-rw-r--r-- 1 root root   138253 Sep 11 09:47 3-Visualize_data.ipynb\r\n",
      "-rw-r--r-- 1 root root     5979 Sep 11 09:42 4-Baseline.ipynb\r\n",
      "-rw-r--r-- 1 root root      115 Sep 11 09:42 README.md\r\n",
      "-rwxr-xr-x 1 root root     6106 Sep 11 09:42 contest_yandex.py\r\n",
      "-rw-r--r-- 1 root root     6635 Sep 11 09:43 contest_yandex.pyc\r\n",
      "-rw-r--r-- 1 root root 56668417 Sep 11 09:46 data.tsv\r\n",
      "-rw-r--r-- 1 root root     4255 Sep 11 09:46 debug.tsv\r\n",
      "-rw-r--r-- 1 root root   601056 Sep 11 09:48 output.txt\r\n",
      "-rw-r--r-- 1 root root     3385 Sep 11 09:46 route_to_stops_count.tsv\r\n"
     ]
    }
   ],
   "source": [
    "!ls -l"
   ]
  },
  {
   "cell_type": "markdown",
   "metadata": {
    "collapsed": true
   },
   "source": [
    "Подставьте свой oauth_token в следующю строку, например:\n",
    "\n",
    "```\n",
    "   oauth = '21a1929c450641769be5c5bc49a55555'\n",
    "```"
   ]
  },
  {
   "cell_type": "code",
   "execution_count": 2,
   "metadata": {
    "collapsed": true
   },
   "outputs": [],
   "source": [
    "oauth=..."
   ]
  },
  {
   "cell_type": "code",
   "execution_count": 7,
   "metadata": {
    "collapsed": false
   },
   "outputs": [],
   "source": [
    "from contest_yandex import YaContestSubmitter\n",
    "contest = YaContestSubmitter(oauth_token=oauth, contest_id=1303)"
   ]
  },
  {
   "cell_type": "code",
   "execution_count": 9,
   "metadata": {
    "collapsed": false
   },
   "outputs": [
    {
     "name": "stdout",
     "output_type": "stream",
     "text": [
      "769300\n"
     ]
    }
   ],
   "source": [
    "r = contest.submit('output.txt')\n",
    "print r"
   ]
  },
  {
   "cell_type": "code",
   "execution_count": 10,
   "metadata": {
    "collapsed": false
   },
   "outputs": [
    {
     "name": "stdout",
     "output_type": "stream",
     "text": [
      "115362.608977\n"
     ]
    }
   ],
   "source": [
    "score = contest.get_result()\n",
    "print score"
   ]
  },
  {
   "cell_type": "code",
   "execution_count": null,
   "metadata": {
    "collapsed": true
   },
   "outputs": [],
   "source": []
  }
 ],
 "metadata": {
  "kernelspec": {
   "display_name": "Python 2",
   "language": "python",
   "name": "python2"
  },
  "language_info": {
   "codemirror_mode": {
    "name": "ipython",
    "version": 2
   },
   "file_extension": ".py",
   "mimetype": "text/x-python",
   "name": "python",
   "nbconvert_exporter": "python",
   "pygments_lexer": "ipython2",
   "version": "2.7.6"
  }
 },
 "nbformat": 4,
 "nbformat_minor": 0
}
